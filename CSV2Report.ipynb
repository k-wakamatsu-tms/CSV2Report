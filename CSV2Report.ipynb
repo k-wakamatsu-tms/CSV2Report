{
  "nbformat": 4,
  "nbformat_minor": 0,
  "metadata": {
    "colab": {
      "provenance": [],
      "include_colab_link": true
    },
    "kernelspec": {
      "name": "python3",
      "display_name": "Python 3"
    },
    "language_info": {
      "name": "python"
    }
  },
  "cells": [
    {
      "cell_type": "markdown",
      "metadata": {
        "id": "view-in-github",
        "colab_type": "text"
      },
      "source": [
        "<a href=\"https://colab.research.google.com/github/k-wakamatsu-tms/CSV2Report/blob/main/CSV2Report.ipynb\" target=\"_parent\"><img src=\"https://colab.research.google.com/assets/colab-badge.svg\" alt=\"Open In Colab\"/></a>"
      ]
    },
    {
      "cell_type": "markdown",
      "source": [
        "# CSVからレポートを作成する\n",
        "\n",
        "## 注意\n",
        "\n",
        "途中に動的にコードを生成する箇所がありますが、愚直に実装した場合、環境変数を読み取る、任意の場所に送信するなど非常に危険なコードが容易に生成できるので注意してください。"
      ],
      "metadata": {
        "id": "cV8qzEVhAT7Z"
      }
    },
    {
      "cell_type": "code",
      "execution_count": null,
      "metadata": {
        "id": "1E9OSRYa4HMZ"
      },
      "outputs": [],
      "source": [
        "openai_key = \"\" #@param {type:\"string\"}"
      ]
    },
    {
      "cell_type": "code",
      "source": [
        "# https://www.opendata.metro.tokyo.lg.jp/shijyou/2022/estimate_quantity_fish.csv\n",
        "# 上記からダウンロードしてください\n",
        "from google.colab import files\n",
        "uploaded = files.upload()\n",
        "csv_file_name = list(uploaded.keys())[0]\n",
        "csv_file_path = '/content/' + csv_file_name\n",
        "print(csv_file_name)\n",
        "print(csv_file_path)"
      ],
      "metadata": {
        "colab": {
          "base_uri": "https://localhost:8080/",
          "height": 113
        },
        "id": "3Kx6ZarJ8B2w",
        "outputId": "852d35c2-9e23-4dc9-98df-59f56e60d101"
      },
      "execution_count": null,
      "outputs": [
        {
          "output_type": "display_data",
          "data": {
            "text/plain": [
              "<IPython.core.display.HTML object>"
            ],
            "text/html": [
              "\n",
              "     <input type=\"file\" id=\"files-fcc0e4a9-616a-4f83-b597-b0197800a060\" name=\"files[]\" multiple disabled\n",
              "        style=\"border:none\" />\n",
              "     <output id=\"result-fcc0e4a9-616a-4f83-b597-b0197800a060\">\n",
              "      Upload widget is only available when the cell has been executed in the\n",
              "      current browser session. Please rerun this cell to enable.\n",
              "      </output>\n",
              "      <script>// Copyright 2017 Google LLC\n",
              "//\n",
              "// Licensed under the Apache License, Version 2.0 (the \"License\");\n",
              "// you may not use this file except in compliance with the License.\n",
              "// You may obtain a copy of the License at\n",
              "//\n",
              "//      http://www.apache.org/licenses/LICENSE-2.0\n",
              "//\n",
              "// Unless required by applicable law or agreed to in writing, software\n",
              "// distributed under the License is distributed on an \"AS IS\" BASIS,\n",
              "// WITHOUT WARRANTIES OR CONDITIONS OF ANY KIND, either express or implied.\n",
              "// See the License for the specific language governing permissions and\n",
              "// limitations under the License.\n",
              "\n",
              "/**\n",
              " * @fileoverview Helpers for google.colab Python module.\n",
              " */\n",
              "(function(scope) {\n",
              "function span(text, styleAttributes = {}) {\n",
              "  const element = document.createElement('span');\n",
              "  element.textContent = text;\n",
              "  for (const key of Object.keys(styleAttributes)) {\n",
              "    element.style[key] = styleAttributes[key];\n",
              "  }\n",
              "  return element;\n",
              "}\n",
              "\n",
              "// Max number of bytes which will be uploaded at a time.\n",
              "const MAX_PAYLOAD_SIZE = 100 * 1024;\n",
              "\n",
              "function _uploadFiles(inputId, outputId) {\n",
              "  const steps = uploadFilesStep(inputId, outputId);\n",
              "  const outputElement = document.getElementById(outputId);\n",
              "  // Cache steps on the outputElement to make it available for the next call\n",
              "  // to uploadFilesContinue from Python.\n",
              "  outputElement.steps = steps;\n",
              "\n",
              "  return _uploadFilesContinue(outputId);\n",
              "}\n",
              "\n",
              "// This is roughly an async generator (not supported in the browser yet),\n",
              "// where there are multiple asynchronous steps and the Python side is going\n",
              "// to poll for completion of each step.\n",
              "// This uses a Promise to block the python side on completion of each step,\n",
              "// then passes the result of the previous step as the input to the next step.\n",
              "function _uploadFilesContinue(outputId) {\n",
              "  const outputElement = document.getElementById(outputId);\n",
              "  const steps = outputElement.steps;\n",
              "\n",
              "  const next = steps.next(outputElement.lastPromiseValue);\n",
              "  return Promise.resolve(next.value.promise).then((value) => {\n",
              "    // Cache the last promise value to make it available to the next\n",
              "    // step of the generator.\n",
              "    outputElement.lastPromiseValue = value;\n",
              "    return next.value.response;\n",
              "  });\n",
              "}\n",
              "\n",
              "/**\n",
              " * Generator function which is called between each async step of the upload\n",
              " * process.\n",
              " * @param {string} inputId Element ID of the input file picker element.\n",
              " * @param {string} outputId Element ID of the output display.\n",
              " * @return {!Iterable<!Object>} Iterable of next steps.\n",
              " */\n",
              "function* uploadFilesStep(inputId, outputId) {\n",
              "  const inputElement = document.getElementById(inputId);\n",
              "  inputElement.disabled = false;\n",
              "\n",
              "  const outputElement = document.getElementById(outputId);\n",
              "  outputElement.innerHTML = '';\n",
              "\n",
              "  const pickedPromise = new Promise((resolve) => {\n",
              "    inputElement.addEventListener('change', (e) => {\n",
              "      resolve(e.target.files);\n",
              "    });\n",
              "  });\n",
              "\n",
              "  const cancel = document.createElement('button');\n",
              "  inputElement.parentElement.appendChild(cancel);\n",
              "  cancel.textContent = 'Cancel upload';\n",
              "  const cancelPromise = new Promise((resolve) => {\n",
              "    cancel.onclick = () => {\n",
              "      resolve(null);\n",
              "    };\n",
              "  });\n",
              "\n",
              "  // Wait for the user to pick the files.\n",
              "  const files = yield {\n",
              "    promise: Promise.race([pickedPromise, cancelPromise]),\n",
              "    response: {\n",
              "      action: 'starting',\n",
              "    }\n",
              "  };\n",
              "\n",
              "  cancel.remove();\n",
              "\n",
              "  // Disable the input element since further picks are not allowed.\n",
              "  inputElement.disabled = true;\n",
              "\n",
              "  if (!files) {\n",
              "    return {\n",
              "      response: {\n",
              "        action: 'complete',\n",
              "      }\n",
              "    };\n",
              "  }\n",
              "\n",
              "  for (const file of files) {\n",
              "    const li = document.createElement('li');\n",
              "    li.append(span(file.name, {fontWeight: 'bold'}));\n",
              "    li.append(span(\n",
              "        `(${file.type || 'n/a'}) - ${file.size} bytes, ` +\n",
              "        `last modified: ${\n",
              "            file.lastModifiedDate ? file.lastModifiedDate.toLocaleDateString() :\n",
              "                                    'n/a'} - `));\n",
              "    const percent = span('0% done');\n",
              "    li.appendChild(percent);\n",
              "\n",
              "    outputElement.appendChild(li);\n",
              "\n",
              "    const fileDataPromise = new Promise((resolve) => {\n",
              "      const reader = new FileReader();\n",
              "      reader.onload = (e) => {\n",
              "        resolve(e.target.result);\n",
              "      };\n",
              "      reader.readAsArrayBuffer(file);\n",
              "    });\n",
              "    // Wait for the data to be ready.\n",
              "    let fileData = yield {\n",
              "      promise: fileDataPromise,\n",
              "      response: {\n",
              "        action: 'continue',\n",
              "      }\n",
              "    };\n",
              "\n",
              "    // Use a chunked sending to avoid message size limits. See b/62115660.\n",
              "    let position = 0;\n",
              "    do {\n",
              "      const length = Math.min(fileData.byteLength - position, MAX_PAYLOAD_SIZE);\n",
              "      const chunk = new Uint8Array(fileData, position, length);\n",
              "      position += length;\n",
              "\n",
              "      const base64 = btoa(String.fromCharCode.apply(null, chunk));\n",
              "      yield {\n",
              "        response: {\n",
              "          action: 'append',\n",
              "          file: file.name,\n",
              "          data: base64,\n",
              "        },\n",
              "      };\n",
              "\n",
              "      let percentDone = fileData.byteLength === 0 ?\n",
              "          100 :\n",
              "          Math.round((position / fileData.byteLength) * 100);\n",
              "      percent.textContent = `${percentDone}% done`;\n",
              "\n",
              "    } while (position < fileData.byteLength);\n",
              "  }\n",
              "\n",
              "  // All done.\n",
              "  yield {\n",
              "    response: {\n",
              "      action: 'complete',\n",
              "    }\n",
              "  };\n",
              "}\n",
              "\n",
              "scope.google = scope.google || {};\n",
              "scope.google.colab = scope.google.colab || {};\n",
              "scope.google.colab._files = {\n",
              "  _uploadFiles,\n",
              "  _uploadFilesContinue,\n",
              "};\n",
              "})(self);\n",
              "</script> "
            ]
          },
          "metadata": {}
        },
        {
          "output_type": "stream",
          "name": "stdout",
          "text": [
            "Saving estimate_quantity_fish.csv to estimate_quantity_fish (1).csv\n",
            "estimate_quantity_fish.csv\n",
            "/content/estimate_quantity_fish.csv\n"
          ]
        }
      ]
    },
    {
      "cell_type": "code",
      "source": [
        "!pip install japanize-matplotlib\n",
        "!pip install openai"
      ],
      "metadata": {
        "colab": {
          "base_uri": "https://localhost:8080/"
        },
        "id": "vBTgCST34U6u",
        "outputId": "96b6c88b-292e-47d0-9ba3-1825cc9f4e07"
      },
      "execution_count": null,
      "outputs": [
        {
          "output_type": "stream",
          "name": "stdout",
          "text": [
            "Looking in indexes: https://pypi.org/simple, https://us-python.pkg.dev/colab-wheels/public/simple/\n",
            "Requirement already satisfied: japanize-matplotlib in /usr/local/lib/python3.8/dist-packages (1.1.3)\n",
            "Requirement already satisfied: matplotlib in /usr/local/lib/python3.8/dist-packages (from japanize-matplotlib) (3.5.3)\n",
            "Requirement already satisfied: pyparsing>=2.2.1 in /usr/local/lib/python3.8/dist-packages (from matplotlib->japanize-matplotlib) (3.0.9)\n",
            "Requirement already satisfied: python-dateutil>=2.7 in /usr/local/lib/python3.8/dist-packages (from matplotlib->japanize-matplotlib) (2.8.2)\n",
            "Requirement already satisfied: kiwisolver>=1.0.1 in /usr/local/lib/python3.8/dist-packages (from matplotlib->japanize-matplotlib) (1.4.4)\n",
            "Requirement already satisfied: pillow>=6.2.0 in /usr/local/lib/python3.8/dist-packages (from matplotlib->japanize-matplotlib) (8.4.0)\n",
            "Requirement already satisfied: fonttools>=4.22.0 in /usr/local/lib/python3.8/dist-packages (from matplotlib->japanize-matplotlib) (4.38.0)\n",
            "Requirement already satisfied: cycler>=0.10 in /usr/local/lib/python3.8/dist-packages (from matplotlib->japanize-matplotlib) (0.11.0)\n",
            "Requirement already satisfied: numpy>=1.17 in /usr/local/lib/python3.8/dist-packages (from matplotlib->japanize-matplotlib) (1.22.4)\n",
            "Requirement already satisfied: packaging>=20.0 in /usr/local/lib/python3.8/dist-packages (from matplotlib->japanize-matplotlib) (23.0)\n",
            "Requirement already satisfied: six>=1.5 in /usr/local/lib/python3.8/dist-packages (from python-dateutil>=2.7->matplotlib->japanize-matplotlib) (1.15.0)\n",
            "Looking in indexes: https://pypi.org/simple, https://us-python.pkg.dev/colab-wheels/public/simple/\n",
            "Collecting openai\n",
            "  Downloading openai-0.27.0-py3-none-any.whl (70 kB)\n",
            "\u001b[2K     \u001b[90m━━━━━━━━━━━━━━━━━━━━━━━━━━━━━━━━━━━━━━━━\u001b[0m \u001b[32m70.1/70.1 KB\u001b[0m \u001b[31m4.0 MB/s\u001b[0m eta \u001b[36m0:00:00\u001b[0m\n",
            "\u001b[?25hRequirement already satisfied: tqdm in /usr/local/lib/python3.8/dist-packages (from openai) (4.64.1)\n",
            "Requirement already satisfied: requests>=2.20 in /usr/local/lib/python3.8/dist-packages (from openai) (2.25.1)\n",
            "Requirement already satisfied: aiohttp in /usr/local/lib/python3.8/dist-packages (from openai) (3.8.4)\n",
            "Requirement already satisfied: chardet<5,>=3.0.2 in /usr/local/lib/python3.8/dist-packages (from requests>=2.20->openai) (4.0.0)\n",
            "Requirement already satisfied: urllib3<1.27,>=1.21.1 in /usr/local/lib/python3.8/dist-packages (from requests>=2.20->openai) (1.26.14)\n",
            "Requirement already satisfied: certifi>=2017.4.17 in /usr/local/lib/python3.8/dist-packages (from requests>=2.20->openai) (2022.12.7)\n",
            "Requirement already satisfied: idna<3,>=2.5 in /usr/local/lib/python3.8/dist-packages (from requests>=2.20->openai) (2.10)\n",
            "Requirement already satisfied: aiosignal>=1.1.2 in /usr/local/lib/python3.8/dist-packages (from aiohttp->openai) (1.3.1)\n",
            "Requirement already satisfied: attrs>=17.3.0 in /usr/local/lib/python3.8/dist-packages (from aiohttp->openai) (22.2.0)\n",
            "Requirement already satisfied: async-timeout<5.0,>=4.0.0a3 in /usr/local/lib/python3.8/dist-packages (from aiohttp->openai) (4.0.2)\n",
            "Requirement already satisfied: yarl<2.0,>=1.0 in /usr/local/lib/python3.8/dist-packages (from aiohttp->openai) (1.8.2)\n",
            "Requirement already satisfied: charset-normalizer<4.0,>=2.0 in /usr/local/lib/python3.8/dist-packages (from aiohttp->openai) (3.0.1)\n",
            "Requirement already satisfied: multidict<7.0,>=4.5 in /usr/local/lib/python3.8/dist-packages (from aiohttp->openai) (6.0.4)\n",
            "Requirement already satisfied: frozenlist>=1.1.1 in /usr/local/lib/python3.8/dist-packages (from aiohttp->openai) (1.3.3)\n",
            "Installing collected packages: openai\n",
            "Successfully installed openai-0.27.0\n"
          ]
        }
      ]
    },
    {
      "cell_type": "code",
      "source": [
        "import csv\n",
        "from typing import List\n",
        "\n",
        "\n",
        "def get_csv_head(file_path: str) -> str:\n",
        "    \"\"\"\n",
        "    指定されたCSVファイルの先頭10行を取得して文字列として返す関数。\n",
        "\n",
        "    Args:\n",
        "        file_path (str): CSVファイルのパス。\n",
        "\n",
        "    Returns:\n",
        "        str: CSVファイルの先頭10行をカンマ区切りで連結した文字列。\n",
        "    \"\"\"\n",
        "    text = ''\n",
        "\n",
        "    with open(file_path, 'r') as csvfile:\n",
        "        reader = csv.reader(csvfile)\n",
        "        for i, row in enumerate(reader):\n",
        "            if i < 10:\n",
        "                text += ','.join(row) + '\\n'\n",
        "            else:\n",
        "                break\n",
        "\n",
        "    return text"
      ],
      "metadata": {
        "id": "FWhoFp705lxH"
      },
      "execution_count": null,
      "outputs": []
    },
    {
      "cell_type": "code",
      "source": [
        "import openai\n",
        "openai.api_key = openai_key\n",
        "def completion(new_message_text:str, settings_text:str = '', past_messages:list = []):\n",
        "    \"\"\"\n",
        "    この関数は、OpenAIのChatGPT API(gpt-3.5-turbo)を使用して、新しいメッセージテキスト、オプションの設定テキスト、\n",
        "    過去のメッセージのリストを入力として受け取り、レスポンスメッセージを生成するために使用されます。\n",
        "\n",
        "    Args:\n",
        "    new_message_text (str): モデルがレスポンスメッセージを生成するために使用する新しいメッセージテキスト。\n",
        "    settings_text (str, optional): 過去のメッセージリストにシステムメッセージとして追加されるオプションの設定テキスト。デフォルトは''です。\n",
        "    past_messages (list, optional): モデルがレスポンスメッセージを生成するために使用するオプションの過去のメッセージのリスト。デフォルトは[]です。\n",
        "\n",
        "    Returns:\n",
        "    tuple: レスポンスメッセージテキストと、新しいメッセージとレスポンスメッセージを追加した過去のメッセージリストを含むタプル。\n",
        "    \"\"\"\n",
        "    if len(past_messages) == 0 and len(settings_text) != 0:\n",
        "        system = {\"role\": \"system\", \"content\": settings_text}\n",
        "        past_messages.append(system)\n",
        "    new_message = {\"role\": \"user\", \"content\": new_message_text}\n",
        "    past_messages.append(new_message)\n",
        "\n",
        "    result = openai.ChatCompletion.create(\n",
        "        model=\"gpt-3.5-turbo\",\n",
        "        messages=past_messages,\n",
        "        max_tokens=1024\n",
        "    )\n",
        "    response_message = {\"role\": \"assistant\", \"content\": result.choices[0].message.content}\n",
        "    past_messages.append(response_message)\n",
        "    response_message_text = result.choices[0].message.content\n",
        "    return response_message_text, past_messages"
      ],
      "metadata": {
        "id": "wg98RxIA7Pih"
      },
      "execution_count": null,
      "outputs": []
    },
    {
      "cell_type": "code",
      "source": [
        "csv_head = get_csv_head(\"data.csv\")"
      ],
      "metadata": {
        "id": "yERPuMNV5nQk"
      },
      "execution_count": null,
      "outputs": []
    },
    {
      "cell_type": "code",
      "source": [
        "# CSVの要約\n",
        "template_summarize = f\"\"\"{csv_head}\n",
        "\n",
        "上記データについてmarkdownを用いてブログ記事風にまとめてください。\"\"\"\n",
        "summarize_text, past = completion(template_summarize, '', [])"
      ],
      "metadata": {
        "id": "NsQQZH68Bv6P"
      },
      "execution_count": null,
      "outputs": []
    },
    {
      "cell_type": "code",
      "source": [
        "from IPython.display import display, Markdown, Latex\n",
        "\n",
        "display(Markdown(\"## 概要\\n\" + summarize_text))"
      ],
      "metadata": {
        "colab": {
          "base_uri": "https://localhost:8080/",
          "height": 357
        },
        "id": "Yp6EJm5UCdrp",
        "outputId": "95f2d48e-fc05-44de-fde9-d2bbbe95f3fd"
      },
      "execution_count": null,
      "outputs": [
        {
          "output_type": "display_data",
          "data": {
            "text/plain": [
              "<IPython.core.display.Markdown object>"
            ],
            "text/markdown": "## 概要\n\n\n最新の水産市場データから、2022年4月1日時点の豊洲市場の鮮魚販売予定数量をご紹介いたします。\n\n豊洲市場において、以下の品目が相対販売予定数量として取り扱われています。\n\n- あじ：19.5t\n- さば：21.7t\n- いわし：13.5t\n- するめいか：10.5t\n- かつお：14.6t\n- さんま：2.0t\n- かれい：7.6t\n- きんめだい：7.4t\n- はまち：22.5t\n\nこのデータから、豊洲市場ではさばが最も多く予定されており、続いてははまち、あじとなっています。また、さんまの販売数量が比較的少ないことが分かります。\n\nこれらの販売数量は卸売りの予定数であり、実際の販売数量は変動する可能性があります。しかしながら、豊洲市場の市況や需要の動向を知る上で、参考になる情報と言えます。"
          },
          "metadata": {}
        }
      ]
    },
    {
      "cell_type": "code",
      "source": [
        "purpose, past = completion(\"どのような目的で活用できますか？\", '', past)"
      ],
      "metadata": {
        "id": "BspUpqt6CGNk"
      },
      "execution_count": null,
      "outputs": []
    },
    {
      "cell_type": "code",
      "source": [
        "display(Markdown(\"## データの活用\\n\" + purpose))"
      ],
      "metadata": {
        "colab": {
          "base_uri": "https://localhost:8080/",
          "height": 251
        },
        "id": "BB2JS-oNDAZT",
        "outputId": "7501d69b-67f1-4443-e452-84cf24266d5a"
      },
      "execution_count": null,
      "outputs": [
        {
          "output_type": "display_data",
          "data": {
            "text/plain": [
              "<IPython.core.display.Markdown object>"
            ],
            "text/markdown": "## データの活用\nこの水産市場データは、水産業界に従事している企業や個人にとって、以下のような活用が可能です。\n\n1. 品目別需要予測の参考情報：市場に出回る鮮魚の販売数量を知ることで、需要予測に役立てることができます。例えば、ある魚種の需要が多いと予測される場合、生産量を増やして販売することで、販売収益の向上が期待できます。\n\n2. 市況の把握：水産市場全体の市況を知ることで、特定の魚種の価格変動や需要動向を推測することができます。この情報を元に、仕入れ価格を調整するなど、業務戦略の決定に役立てることができます。\n\n3. 業界トレンドの把握：水産市場データを比較することで、時間的変化や地域差のある業界トレンドを把握することができます。これにより、業界全体の方向性や今後の市場の変化を予測し、それに対応する戦略を策定することができます。\n\n以上のように、水産市場データは、水産業界に従事している企業や個人にとって、業務戦略の決定や需要予測に役立つ貴重な情報源となっています。"
          },
          "metadata": {}
        }
      ]
    },
    {
      "cell_type": "code",
      "source": [
        "problem, past = completion(\"データからわかる課題を教えて下さい。\", '', past)"
      ],
      "metadata": {
        "id": "tZZgmjGeDJ0V"
      },
      "execution_count": null,
      "outputs": []
    },
    {
      "cell_type": "code",
      "source": [
        "display(Markdown(\"## 課題\\n\" + problem))"
      ],
      "metadata": {
        "colab": {
          "base_uri": "https://localhost:8080/",
          "height": 269
        },
        "id": "mZwOx2PODcdl",
        "outputId": "5db4819e-b6f8-49c2-f086-ba8c97267a96"
      },
      "execution_count": null,
      "outputs": [
        {
          "output_type": "display_data",
          "data": {
            "text/plain": [
              "<IPython.core.display.Markdown object>"
            ],
            "text/markdown": "## 課題\nこの水産市場データからは、以下のような課題が浮かび上がります。\n\n1. 魚種による需要の偏り：このデータからは、需要の高い魚種と低い魚種が明確に現れています。需要の高い魚種に販売を集中することで、多くの販売収益を得ることができますが、需要の低い魚種については在庫の問題や廃棄ロスの課題があります。\n\n2. 発注量と在庫管理の課題：卸売りの予定数と、実際の販売数量が異なる場合、在庫管理の課題が発生します。発注量を滞りなく行い、在庫の適切な管理をすることで、効率的な業務運営に繋がります。\n\n3. 水産業界全体の市況の課題：水産業界全体の市況が不安定である場合、需要や価格の変動が大きくなり、業者は逐一市場情報を収集し、臨機応変な対応が求められます。市況を把握する情報収集の重要性が高まっています。\n\nなお、このデータはあくまで予定数量であり、実際の販売数量が異なる可能性があることを忘れてはなりません。データの信頼性を高め、業務戦略を的確に策定するためにも、正確な情報収集が求められます。"
          },
          "metadata": {}
        }
      ]
    },
    {
      "cell_type": "code",
      "source": [
        "summary, past = completion(\"まとめとしていい感じに書いてください。\", '', past)"
      ],
      "metadata": {
        "id": "8pv30aCgD9Kw"
      },
      "execution_count": null,
      "outputs": []
    },
    {
      "cell_type": "code",
      "source": [
        "display(Markdown(\"## まとめ\\n\" + summary))"
      ],
      "metadata": {
        "colab": {
          "base_uri": "https://localhost:8080/",
          "height": 189
        },
        "id": "b2HgawaoEEVL",
        "outputId": "a5962b3a-602a-4643-f35a-0068372c7f51"
      },
      "execution_count": null,
      "outputs": [
        {
          "output_type": "display_data",
          "data": {
            "text/plain": [
              "<IPython.core.display.Markdown object>"
            ],
            "text/markdown": "## まとめ\n今回ご紹介した水産市場データは、豊洲市場において2022年4月1日時点で予定されている鮮魚販売予定数量を示しています。これらの販売数量は業界の需要予測や市況把握、トレンド分析などに役立てることができます。\n\nしかしながら、このデータからは、魚種別需要の偏り、発注量と在庫管理の課題、水産業界全体の市況の課題が浮かび上がっています。これらの課題に対応するためには、正確な情報収集や市場動向に基づいた戦略の策定が求められます。\n\n水産業界に従事する企業や個人は、このようなデータを活用しつつ、業務戦略の最適化に取り組んでいくことが重要です。正確な情報収集と分析により、業界全体の発展とともに、自身の事業の発展に繋げていくことを目指していただきたいです。"
          },
          "metadata": {}
        }
      ]
    },
    {
      "cell_type": "code",
      "source": [
        "# グラフ化\n",
        "template_graph = f\"\"\"{csv_head}\n",
        "\n",
        "上記データの可視化処理を3パターン、matplotlibを使って行ってください\n",
        "なお、csvのファイルパスは {csv_file_path} です。\n",
        "すべて実行可能なコードとして出力して必要な場合は#でコメントとしてください\"\"\"\n",
        "graph_text, past = completion(template_graph, '', [])"
      ],
      "metadata": {
        "id": "7Mr1H0LC5_BX"
      },
      "execution_count": null,
      "outputs": []
    },
    {
      "cell_type": "code",
      "source": [
        "graph_eval_text = graph_text.replace('import matplotlib.pyplot as plt', 'import matplotlib.pyplot as plt\\nimport japanize_matplotlib')\n",
        "try:\n",
        "    exec(graph_eval_text)\n",
        "except:\n",
        "    print('error')"
      ],
      "metadata": {
        "colab": {
          "base_uri": "https://localhost:8080/",
          "height": 901
        },
        "id": "iZws-_c-8RSx",
        "outputId": "838e0045-eb1a-491a-ea18-d9dd574ed4eb"
      },
      "execution_count": null,
      "outputs": [
        {
          "output_type": "display_data",
          "data": {
            "text/plain": [
              "<Figure size 432x288 with 1 Axes>"
            ],
            "image/png": "[encoded data removed]"
          },
          "metadata": {
            "needs_background": "light"
          }
        },
        {
          "output_type": "display_data",
          "data": {
            "text/plain": [
              "<Figure size 432x288 with 1 Axes>"
            ],
            "image/png": "[encoded data removed]"
          },
          "metadata": {
            "needs_background": "light"
          }
        },
        {
          "output_type": "display_data",
          "data": {
            "text/plain": [
              "<Figure size 432x288 with 1 Axes>"
            ],
            "image/png": "[encoded data removed]"
          },
          "metadata": {}
        }
      ]
    }
  ]
}